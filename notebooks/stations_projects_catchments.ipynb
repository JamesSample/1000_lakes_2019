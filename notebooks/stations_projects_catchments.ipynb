{
 "cells": [
  {
   "cell_type": "code",
   "execution_count": 1,
   "metadata": {},
   "outputs": [],
   "source": [
    "%matplotlib inline\n",
    "\n",
    "import pandas as pd\n",
    "import nivapy3 as nivapy\n",
    "import geopandas as gpd\n",
    "import matplotlib.pyplot as plt\n",
    "from geoalchemy2 import Geometry, WKTElement\n",
    "from sqlalchemy import text\n",
    "\n",
    "plt.style.use('ggplot')"
   ]
  },
  {
   "cell_type": "markdown",
   "metadata": {},
   "source": [
    "# Add catchment data to DSToolkit PostGIS database"
   ]
  },
  {
   "cell_type": "code",
   "execution_count": 2,
   "metadata": {},
   "outputs": [],
   "source": [
    "## Connect to PostGIS\n",
    "## If connecting from JupyterHub\n",
    "# eng = nivapy.da.connect_postgis(admin=True)"
   ]
  },
  {
   "cell_type": "code",
   "execution_count": 3,
   "metadata": {},
   "outputs": [
    {
     "name": "stdin",
     "output_type": "stream",
     "text": [
      "Username:  ········\n",
      "Password:  ·······\n"
     ]
    },
    {
     "name": "stdout",
     "output_type": "stream",
     "text": [
      "Connection successful.\n"
     ]
    }
   ],
   "source": [
    "# Connect to PostGIS\n",
    "# If connecting from \"local\" Docker\n",
    "eng = nivapy.da.connect_postgis(\n",
    "    admin=True, host=\"104.199.55.41\", database=\"general\", port=5432\n",
    ")"
   ]
  },
  {
   "cell_type": "markdown",
   "metadata": {},
   "source": [
    "## 1. Create database structure"
   ]
  },
  {
   "cell_type": "markdown",
   "metadata": {},
   "source": [
    "### 1.1. Create Schema"
   ]
  },
  {
   "cell_type": "code",
   "execution_count": 4,
   "metadata": {},
   "outputs": [
    {
     "data": {
      "text/plain": [
       "<sqlalchemy.engine.result.ResultProxy at 0x7f80ea05a190>"
      ]
     },
     "execution_count": 4,
     "metadata": {},
     "output_type": "execute_result"
    }
   ],
   "source": [
    "sql = \"CREATE SCHEMA IF NOT EXISTS niva\"\n",
    "eng.execute(sql)"
   ]
  },
  {
   "cell_type": "code",
   "execution_count": 6,
   "metadata": {},
   "outputs": [],
   "source": [
    "# Grant \"ReadOnly\" privileges to default Jovyan user\n",
    "sql_list = [ \n",
    "    'GRANT USAGE ON SCHEMA niva TO jovyan',   \n",
    "    'GRANT SELECT ON ALL TABLES IN SCHEMA niva TO jovyan',    \n",
    "    'ALTER DEFAULT PRIVILEGES IN SCHEMA niva GRANT SELECT ON TABLES TO jovyan',\n",
    "]\n",
    "\n",
    "for sql in sql_list:\n",
    "    eng.execute(sql)"
   ]
  },
  {
   "cell_type": "markdown",
   "metadata": {},
   "source": [
    "### 1.2. Create tables"
   ]
  },
  {
   "cell_type": "markdown",
   "metadata": {},
   "source": [
    "#### 1.2.1. Stations"
   ]
  },
  {
   "cell_type": "code",
   "execution_count": 7,
   "metadata": {},
   "outputs": [
    {
     "data": {
      "text/plain": [
       "<sqlalchemy.engine.result.ResultProxy at 0x7f80d8e97410>"
      ]
     },
     "execution_count": 7,
     "metadata": {},
     "output_type": "execute_result"
    }
   ],
   "source": [
    "# Delete if already exists\n",
    "sql = (\"DROP TABLE IF EXISTS niva.stations\")\n",
    "eng.execute(sql)\n",
    "\n",
    "# Create table\n",
    "sql = (\"CREATE TABLE niva.stations \"\n",
    "       \"( \"\n",
    "       \"  station_id SERIAL PRIMARY KEY, \"\n",
    "       \"  station_code text UNIQUE NOT NULL, \"\n",
    "       \"  station_name text UNIQUE NOT NULL, \"\n",
    "       \"  aquamonitor_id integer UNIQUE, \"\n",
    "       \"  longitude numeric NOT NULL, \"\n",
    "       \"  latitude numeric NOT NULL, \"\n",
    "       \"  geom geometry(Point, 4326) NOT NULL \"\n",
    "       \")\")\n",
    "eng.execute(sql)\n",
    "\n",
    "sql = (\"CREATE INDEX niva_stations_spidx \"\n",
    "       \"ON niva.stations \"\n",
    "       \"USING GIST (geom)\")\n",
    "eng.execute(sql)"
   ]
  },
  {
   "cell_type": "markdown",
   "metadata": {},
   "source": [
    "#### 1.2.2. Projects"
   ]
  },
  {
   "cell_type": "code",
   "execution_count": 8,
   "metadata": {},
   "outputs": [
    {
     "data": {
      "text/plain": [
       "<sqlalchemy.engine.result.ResultProxy at 0x7f80d8e978d0>"
      ]
     },
     "execution_count": 8,
     "metadata": {},
     "output_type": "execute_result"
    }
   ],
   "source": [
    "# Delete if already exists\n",
    "sql = (\"DROP TABLE IF EXISTS niva.projects\")\n",
    "eng.execute(sql)\n",
    "\n",
    "# Create table\n",
    "sql = (\"CREATE TABLE niva.projects \"\n",
    "       \"( \"\n",
    "       \"  project_id SERIAL PRIMARY KEY, \"\n",
    "       \"  project_code text UNIQUE NOT NULL, \"\n",
    "       \"  project_name text UNIQUE NOT NULL, \"\n",
    "       \"  aquamonitor_id integer UNIQUE, \"\n",
    "       \"  contact text, \"\n",
    "       \"  description text \"\n",
    "       \")\")\n",
    "eng.execute(sql)"
   ]
  },
  {
   "cell_type": "markdown",
   "metadata": {},
   "source": [
    "#### 1.2.3. Projects-stations"
   ]
  },
  {
   "cell_type": "code",
   "execution_count": 9,
   "metadata": {},
   "outputs": [
    {
     "data": {
      "text/plain": [
       "<sqlalchemy.engine.result.ResultProxy at 0x7f811ccc6090>"
      ]
     },
     "execution_count": 9,
     "metadata": {},
     "output_type": "execute_result"
    }
   ],
   "source": [
    "# Delete if already exists\n",
    "sql = (\"DROP TABLE IF EXISTS niva.projects_stations\")\n",
    "eng.execute(sql)\n",
    "\n",
    "# Create table\n",
    "sql = (\"CREATE TABLE niva.projects_stations \"\n",
    "       \"( \"\n",
    "       \"  project_id integer NOT NULL, \"\n",
    "       \"  station_id integer NOT NULL, \"\n",
    "       \"  PRIMARY KEY (project_id, station_id), \"\n",
    "       \"  CONSTRAINT project_id FOREIGN KEY (project_id) \"\n",
    "       \"      REFERENCES niva.projects (project_id) \"\n",
    "       \"      ON UPDATE NO ACTION ON DELETE NO ACTION, \"\n",
    "       \"  CONSTRAINT station_id_fkey FOREIGN KEY (station_id) \"\n",
    "       \"      REFERENCES niva.stations (station_id) \"\n",
    "       \"      ON UPDATE NO ACTION ON DELETE NO ACTION \"\n",
    "       \")\")\n",
    "eng.execute(sql)"
   ]
  },
  {
   "cell_type": "markdown",
   "metadata": {},
   "source": [
    "#### 1.2.4. Catchments"
   ]
  },
  {
   "cell_type": "code",
   "execution_count": 10,
   "metadata": {},
   "outputs": [
    {
     "data": {
      "text/plain": [
       "<sqlalchemy.engine.result.ResultProxy at 0x7f80d8e96a10>"
      ]
     },
     "execution_count": 10,
     "metadata": {},
     "output_type": "execute_result"
    }
   ],
   "source": [
    "# Delete if already exists\n",
    "sql = (\"DROP TABLE IF EXISTS niva.catchments\")\n",
    "eng.execute(sql)\n",
    "\n",
    "# Create table\n",
    "sql = (\"CREATE TABLE niva.catchments \"\n",
    "       \"( \"\n",
    "       \"  station_id integer NOT NULL, \"\n",
    "       \"  geom geometry(Multipolygon, 4326) NOT NULL, \"\n",
    "       \"  PRIMARY KEY (station_id), \"\n",
    "       \"  CONSTRAINT station_id_fkey FOREIGN KEY (station_id) \"\n",
    "       \"      REFERENCES niva.stations (station_id) \"\n",
    "       \"      ON UPDATE NO ACTION ON DELETE NO ACTION \"\n",
    "       \")\")\n",
    "eng.execute(sql)\n",
    "\n",
    "sql = (\"CREATE INDEX niva_catchments_spidx \"\n",
    "       \"ON niva.catchments \"\n",
    "       \"USING GIST (geom)\")\n",
    "eng.execute(sql)"
   ]
  },
  {
   "cell_type": "markdown",
   "metadata": {},
   "source": [
    "## 2. Add stations and projects"
   ]
  },
  {
   "cell_type": "code",
   "execution_count": 11,
   "metadata": {},
   "outputs": [
    {
     "data": {
      "text/html": [
       "<div>\n",
       "<style scoped>\n",
       "    .dataframe tbody tr th:only-of-type {\n",
       "        vertical-align: middle;\n",
       "    }\n",
       "\n",
       "    .dataframe tbody tr th {\n",
       "        vertical-align: top;\n",
       "    }\n",
       "\n",
       "    .dataframe thead th {\n",
       "        text-align: right;\n",
       "    }\n",
       "</style>\n",
       "<table border=\"1\" class=\"dataframe\">\n",
       "  <thead>\n",
       "    <tr style=\"text-align: right;\">\n",
       "      <th></th>\n",
       "      <th>project_code</th>\n",
       "      <th>project_name</th>\n",
       "      <th>aquamonitor_id</th>\n",
       "      <th>contact</th>\n",
       "      <th>description</th>\n",
       "    </tr>\n",
       "  </thead>\n",
       "  <tbody>\n",
       "    <tr>\n",
       "      <th>0</th>\n",
       "      <td>Refelv_Over</td>\n",
       "      <td>Overvåking av referanseelver</td>\n",
       "      <td>11226</td>\n",
       "      <td>NaN</td>\n",
       "      <td>Overvåking av referanseelver</td>\n",
       "    </tr>\n",
       "  </tbody>\n",
       "</table>\n",
       "</div>"
      ],
      "text/plain": [
       "  project_code                  project_name  aquamonitor_id  contact  \\\n",
       "0  Refelv_Over  Overvåking av referanseelver           11226      NaN   \n",
       "\n",
       "                    description  \n",
       "0  Overvåking av referanseelver  "
      ]
     },
     "execution_count": 11,
     "metadata": {},
     "output_type": "execute_result"
    }
   ],
   "source": [
    "# Read projects\n",
    "xl_path = r\"./stn_proj_catch_templates/refelv_over_stns.xlsx\"\n",
    "proj_df = pd.read_excel(xl_path, sheet_name=\"project\")\n",
    "assert len(proj_df) == 1\n",
    "\n",
    "proj_df"
   ]
  },
  {
   "cell_type": "code",
   "execution_count": 12,
   "metadata": {},
   "outputs": [],
   "source": [
    "# Add project\n",
    "proj_df.to_sql('projects',\n",
    "               schema='niva',\n",
    "               con=eng,\n",
    "               if_exists='append',\n",
    "               index=False,\n",
    "              )"
   ]
  },
  {
   "cell_type": "markdown",
   "metadata": {},
   "source": [
    "### 2.2. Add stations"
   ]
  },
  {
   "cell_type": "code",
   "execution_count": 13,
   "metadata": {},
   "outputs": [
    {
     "data": {
      "text/html": [
       "<div>\n",
       "<style scoped>\n",
       "    .dataframe tbody tr th:only-of-type {\n",
       "        vertical-align: middle;\n",
       "    }\n",
       "\n",
       "    .dataframe tbody tr th {\n",
       "        vertical-align: top;\n",
       "    }\n",
       "\n",
       "    .dataframe thead th {\n",
       "        text-align: right;\n",
       "    }\n",
       "</style>\n",
       "<table border=\"1\" class=\"dataframe\">\n",
       "  <thead>\n",
       "    <tr style=\"text-align: right;\">\n",
       "      <th></th>\n",
       "      <th>station_code</th>\n",
       "      <th>station_name</th>\n",
       "      <th>aquamonitor_id</th>\n",
       "      <th>longitude</th>\n",
       "      <th>latitude</th>\n",
       "      <th>fpath_or_id</th>\n",
       "    </tr>\n",
       "  </thead>\n",
       "  <tbody>\n",
       "    <tr>\n",
       "      <th>0</th>\n",
       "      <td>S_019-242_Asl</td>\n",
       "      <td>Aslestadåi</td>\n",
       "      <td>69564</td>\n",
       "      <td>7.928927</td>\n",
       "      <td>59.310474</td>\n",
       "      <td>68</td>\n",
       "    </tr>\n",
       "    <tr>\n",
       "      <th>1</th>\n",
       "      <td>O_002-305_Atn_DAN04</td>\n",
       "      <td>Atna nedstrøms Atnasjøen, DAN04</td>\n",
       "      <td>66479</td>\n",
       "      <td>10.233701</td>\n",
       "      <td>61.850606</td>\n",
       "      <td>33</td>\n",
       "    </tr>\n",
       "    <tr>\n",
       "      <th>2</th>\n",
       "      <td>O_002-300_Atn_DAN03</td>\n",
       "      <td>Atna v/ Elgvassli, DAN03</td>\n",
       "      <td>66478</td>\n",
       "      <td>10.012606</td>\n",
       "      <td>62.007041</td>\n",
       "      <td>32</td>\n",
       "    </tr>\n",
       "    <tr>\n",
       "      <th>3</th>\n",
       "      <td>O_002-305_Atn_DAN11</td>\n",
       "      <td>Atna, DAN11</td>\n",
       "      <td>66483</td>\n",
       "      <td>10.746483</td>\n",
       "      <td>61.745664</td>\n",
       "      <td>34</td>\n",
       "    </tr>\n",
       "    <tr>\n",
       "      <th>4</th>\n",
       "      <td>V_073-78_Sme</td>\n",
       "      <td>Bekkefelt nedre del av Smedalselvi og Mørkedøla</td>\n",
       "      <td>69553</td>\n",
       "      <td>7.965413</td>\n",
       "      <td>61.072394</td>\n",
       "      <td>11</td>\n",
       "    </tr>\n",
       "  </tbody>\n",
       "</table>\n",
       "</div>"
      ],
      "text/plain": [
       "          station_code                                     station_name  \\\n",
       "0        S_019-242_Asl                                       Aslestadåi   \n",
       "1  O_002-305_Atn_DAN04                  Atna nedstrøms Atnasjøen, DAN04   \n",
       "2  O_002-300_Atn_DAN03                         Atna v/ Elgvassli, DAN03   \n",
       "3  O_002-305_Atn_DAN11                                      Atna, DAN11   \n",
       "4         V_073-78_Sme  Bekkefelt nedre del av Smedalselvi og Mørkedøla   \n",
       "\n",
       "   aquamonitor_id  longitude   latitude  fpath_or_id  \n",
       "0           69564   7.928927  59.310474           68  \n",
       "1           66479  10.233701  61.850606           33  \n",
       "2           66478  10.012606  62.007041           32  \n",
       "3           66483  10.746483  61.745664           34  \n",
       "4           69553   7.965413  61.072394           11  "
      ]
     },
     "execution_count": 13,
     "metadata": {},
     "output_type": "execute_result"
    }
   ],
   "source": [
    "# Read stations\n",
    "xl_path = r\"./stn_proj_catch_templates/refelv_over_stns.xlsx\"\n",
    "stn_df = pd.read_excel(xl_path, sheet_name=\"stations\")\n",
    "stn_df[\"longitude\"] = stn_df[\"longitude\"].round(6)\n",
    "stn_df[\"latitude\"] = stn_df[\"latitude\"].round(6)\n",
    "\n",
    "stn_df.head()"
   ]
  },
  {
   "cell_type": "code",
   "execution_count": 14,
   "metadata": {},
   "outputs": [
    {
     "data": {
      "text/html": [
       "<div>\n",
       "<style scoped>\n",
       "    .dataframe tbody tr th:only-of-type {\n",
       "        vertical-align: middle;\n",
       "    }\n",
       "\n",
       "    .dataframe tbody tr th {\n",
       "        vertical-align: top;\n",
       "    }\n",
       "\n",
       "    .dataframe thead th {\n",
       "        text-align: right;\n",
       "    }\n",
       "</style>\n",
       "<table border=\"1\" class=\"dataframe\">\n",
       "  <thead>\n",
       "    <tr style=\"text-align: right;\">\n",
       "      <th></th>\n",
       "      <th>station_code</th>\n",
       "      <th>station_name</th>\n",
       "      <th>aquamonitor_id</th>\n",
       "      <th>longitude</th>\n",
       "      <th>latitude</th>\n",
       "      <th>geom</th>\n",
       "    </tr>\n",
       "  </thead>\n",
       "  <tbody>\n",
       "    <tr>\n",
       "      <th>0</th>\n",
       "      <td>S_019-242_Asl</td>\n",
       "      <td>Aslestadåi</td>\n",
       "      <td>69564</td>\n",
       "      <td>7.928927</td>\n",
       "      <td>59.310474</td>\n",
       "      <td>POINT (7.928927 59.310474)</td>\n",
       "    </tr>\n",
       "    <tr>\n",
       "      <th>1</th>\n",
       "      <td>O_002-305_Atn_DAN04</td>\n",
       "      <td>Atna nedstrøms Atnasjøen, DAN04</td>\n",
       "      <td>66479</td>\n",
       "      <td>10.233701</td>\n",
       "      <td>61.850606</td>\n",
       "      <td>POINT (10.233701 61.850606)</td>\n",
       "    </tr>\n",
       "    <tr>\n",
       "      <th>2</th>\n",
       "      <td>O_002-300_Atn_DAN03</td>\n",
       "      <td>Atna v/ Elgvassli, DAN03</td>\n",
       "      <td>66478</td>\n",
       "      <td>10.012606</td>\n",
       "      <td>62.007041</td>\n",
       "      <td>POINT (10.012606 62.007041)</td>\n",
       "    </tr>\n",
       "    <tr>\n",
       "      <th>3</th>\n",
       "      <td>O_002-305_Atn_DAN11</td>\n",
       "      <td>Atna, DAN11</td>\n",
       "      <td>66483</td>\n",
       "      <td>10.746483</td>\n",
       "      <td>61.745664</td>\n",
       "      <td>POINT (10.746483 61.745664)</td>\n",
       "    </tr>\n",
       "    <tr>\n",
       "      <th>4</th>\n",
       "      <td>V_073-78_Sme</td>\n",
       "      <td>Bekkefelt nedre del av Smedalselvi og Mørkedøla</td>\n",
       "      <td>69553</td>\n",
       "      <td>7.965413</td>\n",
       "      <td>61.072394</td>\n",
       "      <td>POINT (7.965413 61.072394)</td>\n",
       "    </tr>\n",
       "  </tbody>\n",
       "</table>\n",
       "</div>"
      ],
      "text/plain": [
       "          station_code                                     station_name  \\\n",
       "0        S_019-242_Asl                                       Aslestadåi   \n",
       "1  O_002-305_Atn_DAN04                  Atna nedstrøms Atnasjøen, DAN04   \n",
       "2  O_002-300_Atn_DAN03                         Atna v/ Elgvassli, DAN03   \n",
       "3  O_002-305_Atn_DAN11                                      Atna, DAN11   \n",
       "4         V_073-78_Sme  Bekkefelt nedre del av Smedalselvi og Mørkedøla   \n",
       "\n",
       "   aquamonitor_id  longitude   latitude                         geom  \n",
       "0           69564   7.928927  59.310474   POINT (7.928927 59.310474)  \n",
       "1           66479  10.233701  61.850606  POINT (10.233701 61.850606)  \n",
       "2           66478  10.012606  62.007041  POINT (10.012606 62.007041)  \n",
       "3           66483  10.746483  61.745664  POINT (10.746483 61.745664)  \n",
       "4           69553   7.965413  61.072394   POINT (7.965413 61.072394)  "
      ]
     },
     "execution_count": 14,
     "metadata": {},
     "output_type": "execute_result"
    }
   ],
   "source": [
    "# Build geom\n",
    "stn_gdf = gpd.GeoDataFrame(\n",
    "    stn_df,\n",
    "    crs={\"init\": \"epsg:4326\"},\n",
    "    geometry=gpd.points_from_xy(stn_df.longitude, stn_df.latitude),\n",
    ").copy()\n",
    "stn_gdf[\"geom\"] = stn_gdf[\"geometry\"].apply(lambda x: WKTElement(x.wkt, srid=4326))\n",
    "del stn_gdf[\"fpath_or_id\"], stn_gdf[\"geometry\"]\n",
    "\n",
    "stn_gdf.head()"
   ]
  },
  {
   "cell_type": "code",
   "execution_count": 15,
   "metadata": {},
   "outputs": [],
   "source": [
    "# Add stations\n",
    "stn_gdf.to_sql('stations',\n",
    "               schema='niva',\n",
    "               con=eng,\n",
    "               if_exists='append',\n",
    "               index=False,\n",
    "               dtype={'geom': Geometry('POINT', srid=4326)},\n",
    "               method='multi',\n",
    "               chunksize=1000,\n",
    "              )"
   ]
  },
  {
   "cell_type": "markdown",
   "metadata": {},
   "source": [
    "### 2.3. Add project-stations"
   ]
  },
  {
   "cell_type": "code",
   "execution_count": 16,
   "metadata": {},
   "outputs": [
    {
     "data": {
      "text/html": [
       "<div>\n",
       "<style scoped>\n",
       "    .dataframe tbody tr th:only-of-type {\n",
       "        vertical-align: middle;\n",
       "    }\n",
       "\n",
       "    .dataframe tbody tr th {\n",
       "        vertical-align: top;\n",
       "    }\n",
       "\n",
       "    .dataframe thead th {\n",
       "        text-align: right;\n",
       "    }\n",
       "</style>\n",
       "<table border=\"1\" class=\"dataframe\">\n",
       "  <thead>\n",
       "    <tr style=\"text-align: right;\">\n",
       "      <th></th>\n",
       "      <th>station_id</th>\n",
       "      <th>project_id</th>\n",
       "    </tr>\n",
       "  </thead>\n",
       "  <tbody>\n",
       "    <tr>\n",
       "      <th>0</th>\n",
       "      <td>1</td>\n",
       "      <td>1</td>\n",
       "    </tr>\n",
       "    <tr>\n",
       "      <th>1</th>\n",
       "      <td>2</td>\n",
       "      <td>1</td>\n",
       "    </tr>\n",
       "    <tr>\n",
       "      <th>2</th>\n",
       "      <td>3</td>\n",
       "      <td>1</td>\n",
       "    </tr>\n",
       "    <tr>\n",
       "      <th>3</th>\n",
       "      <td>4</td>\n",
       "      <td>1</td>\n",
       "    </tr>\n",
       "    <tr>\n",
       "      <th>4</th>\n",
       "      <td>5</td>\n",
       "      <td>1</td>\n",
       "    </tr>\n",
       "  </tbody>\n",
       "</table>\n",
       "</div>"
      ],
      "text/plain": [
       "   station_id  project_id\n",
       "0           1           1\n",
       "1           2           1\n",
       "2           3           1\n",
       "3           4           1\n",
       "4           5           1"
      ]
     },
     "execution_count": 16,
     "metadata": {},
     "output_type": "execute_result"
    }
   ],
   "source": [
    "# Build table for projects-stations\n",
    "# Get station IDs\n",
    "stn_codes = tuple(stn_df[\"station_code\"].unique())\n",
    "sql = text(\"SELECT station_id FROM niva.stations \" \n",
    "           \"WHERE station_code IN :stn_codes\")\n",
    "prst_df = pd.read_sql(sql, params={\"stn_codes\": stn_codes}, con=eng)\n",
    "\n",
    "# Get project ID\n",
    "proj_code = proj_df[\"project_code\"].values[0]\n",
    "sql = text(\"SELECT project_id FROM niva.projects \" \n",
    "           \"WHERE project_code = :proj_code\")\n",
    "proj_id = pd.read_sql(sql, params={\"proj_code\": proj_code}, con=eng)[\"project_id\"].iloc[0]\n",
    "\n",
    "prst_df[\"project_id\"] = proj_id\n",
    "prst_df.head()"
   ]
  },
  {
   "cell_type": "code",
   "execution_count": 17,
   "metadata": {},
   "outputs": [],
   "source": [
    "# Add projects-stations\n",
    "prst_df.to_sql('projects_stations',\n",
    "               schema='niva',\n",
    "               con=eng,\n",
    "               if_exists='append',\n",
    "               index=False,\n",
    "               method='multi',\n",
    "               chunksize=1000,\n",
    "              )"
   ]
  },
  {
   "cell_type": "markdown",
   "metadata": {},
   "source": [
    "### 2.4. Add catchments"
   ]
  },
  {
   "cell_type": "code",
   "execution_count": 2,
   "metadata": {},
   "outputs": [
    {
     "name": "stdout",
     "output_type": "stream",
     "text": [
      "Connection failed.\n",
      "(psycopg2.OperationalError) could not connect to server: Connection refused\n",
      "\tIs the server running on host \"34.89.139.67\" and accepting\n",
      "\tTCP/IP connections on port 5432?\n",
      "\n",
      "(Background on this error at: http://sqlalche.me/e/e3q8)\n"
     ]
    }
   ],
   "source": [
    "# Connect to Jose's PostGIS database\n",
    "# Must be from \"local\" Docker\n",
    "jlg_eng = nivapy.da.connect_postgis(\n",
    "    host=\"34.89.139.67\",                       # IP is not statisc - get latest from José\n",
    "    database=\"geonorway\",\n",
    "    port=5432,\n",
    "    user=\"james\",\n",
    "    password=\"jamesrocks\",  # Thanks Jose ;-)\n",
    ")"
   ]
  },
  {
   "cell_type": "code",
   "execution_count": 19,
   "metadata": {},
   "outputs": [
    {
     "data": {
      "text/html": [
       "<div>\n",
       "<style scoped>\n",
       "    .dataframe tbody tr th:only-of-type {\n",
       "        vertical-align: middle;\n",
       "    }\n",
       "\n",
       "    .dataframe tbody tr th {\n",
       "        vertical-align: top;\n",
       "    }\n",
       "\n",
       "    .dataframe thead th {\n",
       "        text-align: right;\n",
       "    }\n",
       "</style>\n",
       "<table border=\"1\" class=\"dataframe\">\n",
       "  <thead>\n",
       "    <tr style=\"text-align: right;\">\n",
       "      <th></th>\n",
       "      <th>fpath_or_id</th>\n",
       "      <th>geom</th>\n",
       "    </tr>\n",
       "  </thead>\n",
       "  <tbody>\n",
       "    <tr>\n",
       "      <th>0</th>\n",
       "      <td>15</td>\n",
       "      <td>MULTIPOLYGON (((8.01595 61.55096, 8.01642 61.5...</td>\n",
       "    </tr>\n",
       "    <tr>\n",
       "      <th>1</th>\n",
       "      <td>52</td>\n",
       "      <td>MULTIPOLYGON (((12.24675 64.71368, 12.24779 64...</td>\n",
       "    </tr>\n",
       "    <tr>\n",
       "      <th>2</th>\n",
       "      <td>17</td>\n",
       "      <td>MULTIPOLYGON (((7.64513 60.53337, 7.64559 60.5...</td>\n",
       "    </tr>\n",
       "    <tr>\n",
       "      <th>3</th>\n",
       "      <td>24</td>\n",
       "      <td>MULTIPOLYGON (((11.28994 62.05309, 11.29327 62...</td>\n",
       "    </tr>\n",
       "    <tr>\n",
       "      <th>4</th>\n",
       "      <td>26</td>\n",
       "      <td>MULTIPOLYGON (((10.01309 61.84945, 10.02823 61...</td>\n",
       "    </tr>\n",
       "  </tbody>\n",
       "</table>\n",
       "</div>"
      ],
      "text/plain": [
       "   fpath_or_id                                               geom\n",
       "0           15  MULTIPOLYGON (((8.01595 61.55096, 8.01642 61.5...\n",
       "1           52  MULTIPOLYGON (((12.24675 64.71368, 12.24779 64...\n",
       "2           17  MULTIPOLYGON (((7.64513 60.53337, 7.64559 60.5...\n",
       "3           24  MULTIPOLYGON (((11.28994 62.05309, 11.29327 62...\n",
       "4           26  MULTIPOLYGON (((10.01309 61.84945, 10.02823 61..."
      ]
     },
     "execution_count": 19,
     "metadata": {},
     "output_type": "execute_result"
    }
   ],
   "source": [
    "# Read catchments\n",
    "sql = (\n",
    "    \"SELECT station_id, \"\n",
    "    \"  ST_Transform(ST_Multi(basin), 4326) AS geom \"\n",
    "    \"FROM metno.resultsshp\"\n",
    ")\n",
    "cat_gdf = gpd.read_postgis(sql, jlg_eng, geom_col=\"geom\")\n",
    "cat_gdf.rename({\"station_id\": \"fpath_or_id\"}, axis=1, inplace=True)\n",
    "\n",
    "# Save\n",
    "# cat_gdf.to_file('jose_catchments.geojson', driver='GeoJSON')\n",
    "\n",
    "cat_gdf.head()"
   ]
  },
  {
   "cell_type": "code",
   "execution_count": 20,
   "metadata": {},
   "outputs": [
    {
     "data": {
      "text/html": [
       "<div>\n",
       "<style scoped>\n",
       "    .dataframe tbody tr th:only-of-type {\n",
       "        vertical-align: middle;\n",
       "    }\n",
       "\n",
       "    .dataframe tbody tr th {\n",
       "        vertical-align: top;\n",
       "    }\n",
       "\n",
       "    .dataframe thead th {\n",
       "        text-align: right;\n",
       "    }\n",
       "</style>\n",
       "<table border=\"1\" class=\"dataframe\">\n",
       "  <thead>\n",
       "    <tr style=\"text-align: right;\">\n",
       "      <th></th>\n",
       "      <th>station_id</th>\n",
       "      <th>geom</th>\n",
       "    </tr>\n",
       "  </thead>\n",
       "  <tbody>\n",
       "    <tr>\n",
       "      <th>0</th>\n",
       "      <td>73</td>\n",
       "      <td>MULTIPOLYGON (((8.01594911052848 61.5509631906...</td>\n",
       "    </tr>\n",
       "    <tr>\n",
       "      <th>1</th>\n",
       "      <td>46</td>\n",
       "      <td>MULTIPOLYGON (((12.24675357327684 64.713675950...</td>\n",
       "    </tr>\n",
       "    <tr>\n",
       "      <th>2</th>\n",
       "      <td>47</td>\n",
       "      <td>MULTIPOLYGON (((7.645134072621154 60.533369423...</td>\n",
       "    </tr>\n",
       "    <tr>\n",
       "      <th>3</th>\n",
       "      <td>43</td>\n",
       "      <td>MULTIPOLYGON (((11.28993999286648 62.053088792...</td>\n",
       "    </tr>\n",
       "    <tr>\n",
       "      <th>4</th>\n",
       "      <td>59</td>\n",
       "      <td>MULTIPOLYGON (((10.01309118466988 61.849447372...</td>\n",
       "    </tr>\n",
       "  </tbody>\n",
       "</table>\n",
       "</div>"
      ],
      "text/plain": [
       "   station_id                                               geom\n",
       "0          73  MULTIPOLYGON (((8.01594911052848 61.5509631906...\n",
       "1          46  MULTIPOLYGON (((12.24675357327684 64.713675950...\n",
       "2          47  MULTIPOLYGON (((7.645134072621154 60.533369423...\n",
       "3          43  MULTIPOLYGON (((11.28993999286648 62.053088792...\n",
       "4          59  MULTIPOLYGON (((10.01309118466988 61.849447372..."
      ]
     },
     "execution_count": 20,
     "metadata": {},
     "output_type": "execute_result"
    }
   ],
   "source": [
    "# Get station IDs from db\n",
    "sql = text(\n",
    "    \"SELECT station_id, station_code FROM niva.stations \"\n",
    "    \"WHERE station_id IN ( \"\n",
    "    \"  SELECT station_id from niva.projects_stations \"\n",
    "    \"  WHERE project_id = :proj_id)\"\n",
    ")\n",
    "stn_ids = pd.read_sql(sql, params={\"proj_id\": 1}, con=eng)\n",
    "\n",
    "# Join José's IDs\n",
    "df = pd.merge(\n",
    "    stn_ids, stn_df[[\"station_code\", \"fpath_or_id\"]], how=\"left\", on=\"station_code\",\n",
    ")\n",
    "\n",
    "# Join catchments\n",
    "cat_gdf = cat_gdf.merge(df, on=\"fpath_or_id\")\n",
    "\n",
    "# Tidy\n",
    "cat_gdf = cat_gdf[[\"station_id\", \"geom\"]]\n",
    "cat_gdf[\"geom\"] = cat_gdf[\"geom\"].apply(lambda x: WKTElement(x.wkt, srid=4326))\n",
    "\n",
    "cat_gdf.head()"
   ]
  },
  {
   "cell_type": "code",
   "execution_count": 21,
   "metadata": {},
   "outputs": [],
   "source": [
    "# Add catchments\n",
    "cat_gdf.to_sql('catchments',\n",
    "               schema='niva',\n",
    "               con=eng,\n",
    "               if_exists='append',\n",
    "               index=False,\n",
    "               dtype={'geom': Geometry('MULTIPOLYGON', srid=4326)},\n",
    "               method='multi',\n",
    "               chunksize=1000,\n",
    "              )"
   ]
  }
 ],
 "metadata": {
  "kernelspec": {
   "display_name": "Python 3",
   "language": "python",
   "name": "python3"
  },
  "language_info": {
   "codemirror_mode": {
    "name": "ipython",
    "version": 3
   },
   "file_extension": ".py",
   "mimetype": "text/x-python",
   "name": "python",
   "nbconvert_exporter": "python",
   "pygments_lexer": "ipython3",
   "version": "3.7.4"
  }
 },
 "nbformat": 4,
 "nbformat_minor": 4
}
